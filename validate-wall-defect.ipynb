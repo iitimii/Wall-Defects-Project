{
 "cells": [
  {
   "cell_type": "code",
   "execution_count": 1,
   "metadata": {},
   "outputs": [
    {
     "name": "stdout",
     "output_type": "stream",
     "text": [
      "Ultralytics YOLOv8.2.2 🚀 Python-3.10.14 torch-2.4.0.dev20240404 CPU (Apple M1)\n",
      "Setup complete ✅ (8 CPUs, 8.0 GB RAM, 221.0/228.3 GB disk)\n"
     ]
    }
   ],
   "source": [
    "import os\n",
    "from IPython import display\n",
    "import ultralytics\n",
    "from ultralytics import YOLO\n",
    "from IPython.display import display, Image\n",
    "ultralytics.checks()"
   ]
  },
  {
   "cell_type": "code",
   "execution_count": 8,
   "metadata": {},
   "outputs": [],
   "source": [
    "HOME = os.getcwd()"
   ]
  },
  {
   "cell_type": "code",
   "execution_count": 11,
   "metadata": {},
   "outputs": [
    {
     "name": "stdout",
     "output_type": "stream",
     "text": [
      "Ultralytics YOLOv8.2.2 🚀 Python-3.10.14 torch-2.4.0.dev20240404 CPU (Apple M1)\n",
      "Model summary (fused): 168 layers, 3006623 parameters, 0 gradients, 8.1 GFLOPs\n",
      "\u001b[34m\u001b[1mval: \u001b[0mScanning /Users/timii/Developer/Students_Projects/Chidinma/datasets/Wall-De\u001b[0m\n",
      "                 Class     Images  Instances      Box(P          R      mAP50  m\n",
      "                   all         29        126      0.173      0.368      0.178     0.0885\n",
      "                 crack         29          5     0.0793        0.2      0.109     0.0456\n",
      "                  mold         29         22      0.143      0.182      0.132     0.0879\n",
      "         peeling_paint         29         70       0.19      0.208      0.139     0.0765\n",
      "       stairstep_crack         29          1      0.192          1      0.332       0.16\n",
      "         water_seepage         29         28      0.258       0.25      0.179     0.0725\n",
      "Speed: 2.6ms preprocess, 261.4ms inference, 0.0ms loss, 24.0ms postprocess per image\n",
      "Results saved to \u001b[1mruns/detect/val11\u001b[0m\n",
      "💡 Learn more at https://docs.ultralytics.com/modes/val\n"
     ]
    }
   ],
   "source": [
    "!yolo task=detect mode=val model=runs/detect/train2/weights/best.pt data=data.yaml imgsz=640 "
   ]
  },
  {
   "cell_type": "code",
   "execution_count": 12,
   "metadata": {},
   "outputs": [
    {
     "name": "stdout",
     "output_type": "stream",
     "text": [
      "Ultralytics YOLOv8.2.2 🚀 Python-3.10.14 torch-2.4.0.dev20240404 CPU (Apple M1)\n",
      "Model summary (fused): 168 layers, 3006623 parameters, 0 gradients, 8.1 GFLOPs\n",
      "\u001b[34m\u001b[1mval: \u001b[0mScanning /Users/timii/Developer/Students_Projects/Chidinma/datasets/Wall-De\u001b[0m\n",
      "                 Class     Images  Instances      Box(P          R      mAP50  m\n",
      "                   all         29        126      0.477      0.322      0.336      0.208\n",
      "                 crack         29          5      0.222        0.2     0.0745     0.0374\n",
      "                  mold         29         22      0.233     0.0909      0.131     0.0552\n",
      "         peeling_paint         29         70      0.567      0.143      0.222      0.117\n",
      "       stairstep_crack         29          1      0.839          1      0.995      0.697\n",
      "         water_seepage         29         28      0.521      0.179      0.258      0.132\n",
      "Speed: 3.6ms preprocess, 244.5ms inference, 0.0ms loss, 21.4ms postprocess per image\n",
      "Results saved to \u001b[1mruns/detect/val\u001b[0m\n",
      "💡 Learn more at https://docs.ultralytics.com/modes/val\n"
     ]
    }
   ],
   "source": [
    "!yolo task=detect mode=val model=runs/detect/train3/weights/best.pt data=data.yaml imgsz=640 "
   ]
  },
  {
   "cell_type": "code",
   "execution_count": 2,
   "metadata": {},
   "outputs": [
    {
     "name": "stdout",
     "output_type": "stream",
     "text": [
      "Ultralytics YOLOv8.2.2 🚀 Python-3.10.14 torch-2.4.0.dev20240404 CPU (Apple M1)\n",
      "Model summary (fused): 168 layers, 3006623 parameters, 0 gradients, 8.1 GFLOPs\n",
      "\u001b[34m\u001b[1mval: \u001b[0mScanning /Users/timii/Developer/Students_Projects/Chidinma/datasets/Wall-De\u001b[0m\n",
      "                 Class     Images  Instances      Box(P          R      mAP50  m\n",
      "                   all         29        126      0.351      0.351      0.343      0.247\n",
      "                 crack         29          5      0.206        0.2      0.205     0.0633\n",
      "                  mold         29         22      0.185      0.155     0.0834     0.0262\n",
      "         peeling_paint         29         70      0.367      0.186      0.197      0.104\n",
      "       stairstep_crack         29          1      0.553          1      0.995      0.895\n",
      "         water_seepage         29         28      0.447      0.214      0.232      0.146\n",
      "Speed: 2.4ms preprocess, 223.7ms inference, 0.0ms loss, 23.2ms postprocess per image\n",
      "Results saved to \u001b[1mruns/detect/val2\u001b[0m\n",
      "💡 Learn more at https://docs.ultralytics.com/modes/val\n"
     ]
    }
   ],
   "source": [
    "!yolo task=detect mode=val model=runs/detect/train4/weights/best.pt data=data.yaml imgsz=640 "
   ]
  }
 ],
 "metadata": {
  "kernelspec": {
   "display_name": "aienv",
   "language": "python",
   "name": "python3"
  },
  "language_info": {
   "codemirror_mode": {
    "name": "ipython",
    "version": 3
   },
   "file_extension": ".py",
   "mimetype": "text/x-python",
   "name": "python",
   "nbconvert_exporter": "python",
   "pygments_lexer": "ipython3",
   "version": "3.10.14"
  }
 },
 "nbformat": 4,
 "nbformat_minor": 2
}
